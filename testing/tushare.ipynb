{
 "cells": [
  {
   "cell_type": "code",
   "execution_count": 4,
   "metadata": {},
   "outputs": [],
   "source": [
    "import datetime\n",
    "import pandas as pd\n",
    "import numpy as np\n",
    "import dolphindb as ddb\n",
    "\n"
   ]
  },
  {
   "cell_type": "code",
   "execution_count": 8,
   "metadata": {},
   "outputs": [
    {
     "ename": "AttributeError",
     "evalue": "module 'tushare' has no attribute 'pro_api'",
     "traceback": [
      "\u001b[1;31m---------------------------------------------------------------------------\u001b[0m",
      "\u001b[1;31mAttributeError\u001b[0m                            Traceback (most recent call last)",
      "\u001b[1;32m<ipython-input-8-d4ae70457448>\u001b[0m in \u001b[0;36m<module>\u001b[1;34m()\u001b[0m\n\u001b[1;32m----> 1\u001b[1;33m \u001b[1;32mimport\u001b[0m \u001b[0mtushare\u001b[0m \u001b[1;32mas\u001b[0m \u001b[0mts\u001b[0m\u001b[1;33m\u001b[0m\u001b[0m\n\u001b[0m",
      "\u001b[1;32m~\\workspace\\python3_api\\test\\tushare.py\u001b[0m in \u001b[0;36m<module>\u001b[1;34m()\u001b[0m\n\u001b[0;32m      5\u001b[0m \u001b[1;32mimport\u001b[0m \u001b[0mdolphindb\u001b[0m \u001b[1;32mas\u001b[0m \u001b[0mddb\u001b[0m\u001b[1;33m\u001b[0m\u001b[0m\n\u001b[0;32m      6\u001b[0m \u001b[1;33m\u001b[0m\u001b[0m\n\u001b[1;32m----> 7\u001b[1;33m \u001b[0mpro\u001b[0m\u001b[1;33m=\u001b[0m\u001b[0mts\u001b[0m\u001b[1;33m.\u001b[0m\u001b[0mpro_api\u001b[0m\u001b[1;33m(\u001b[0m\u001b[1;34m'2ae57756221025710e0f33971119da2a53e8728761917748750abcc4'\u001b[0m\u001b[1;33m)\u001b[0m\u001b[1;33m\u001b[0m\u001b[0m\n\u001b[0m\u001b[0;32m      8\u001b[0m \u001b[0ms\u001b[0m\u001b[1;33m=\u001b[0m\u001b[0mddb\u001b[0m\u001b[1;33m.\u001b[0m\u001b[0msession\u001b[0m\u001b[1;33m(\u001b[0m\u001b[1;33m)\u001b[0m\u001b[1;33m\u001b[0m\u001b[0m\n\u001b[0;32m      9\u001b[0m \u001b[0ms\u001b[0m\u001b[1;33m.\u001b[0m\u001b[0mconnect\u001b[0m\u001b[1;33m(\u001b[0m\u001b[1;34m\"38.124.1.171\"\u001b[0m\u001b[1;33m,\u001b[0m\u001b[1;36m8802\u001b[0m\u001b[1;33m,\u001b[0m\u001b[1;34m\"admin\"\u001b[0m\u001b[1;33m,\u001b[0m\u001b[1;34m\"123456\"\u001b[0m\u001b[1;33m)\u001b[0m\u001b[1;33m\u001b[0m\u001b[0m\n",
      "\u001b[1;31mAttributeError\u001b[0m: module 'tushare' has no attribute 'pro_api'"
     ],
     "output_type": "error"
    }
   ],
   "source": [
    "import tushare as ts"
   ]
  },
  {
   "cell_type": "code",
   "execution_count": null,
   "metadata": {},
   "outputs": [],
   "source": []
  },
  {
   "cell_type": "code",
   "execution_count": null,
   "metadata": {},
   "outputs": [],
   "source": []
  },
  {
   "cell_type": "code",
   "execution_count": null,
   "metadata": {},
   "outputs": [],
   "source": [
    "pro=ts.pro_api('2ae57756221025710e0f33971119da2a53e8728761917748750abcc4')\n",
    "s=ddb.session()\n",
    "s.connect(\"38.124.1.171\",8802,\"admin\",\"123456\")\n",
    "t1=s.loadTable(tableName=\"hushen_daily_line\",dbPath=\"dfs://tushare\")\n",
    "t2=s.loadTable(tableName=\"hushen_daily_indicator\",dbPath=\"dfs://tushare\")\n",
    "def dateRange(beginDate,endDate):\n",
    "    dates=[]\n",
    "    dt=datetime.datetime.strptime(beginDate,\"%Y%m%d\")\n",
    "    date=beginDate[:]\n",
    "    while date <= endDate:\n",
    "        dates.append(date)\n",
    "        dt=dt + datetime.timedelta(1)\n",
    "        date=dt.strftime(\"%Y%m%d\")\n",
    "    return dates\n",
    "\n",
    "for dates in dateRange('20080101','20171231'):\n",
    "    df=pro.daily(trade_date=dates)\n",
    "if len(df):\n",
    "    t1.append(s.table(data=df))\n",
    "    print(t1.rows)\n",
    "\n",
    "for dates in dateRange('20080101','20171231'):\n",
    "    ds=pro.daily(trade_date=dates)\n",
    "    ds['volume_ratio']=np.float64(ds['volume_ratio'])\n",
    "if len(ds):\n",
    "    t2.append(s.table(data=ds))\n",
    "    print(t2.rows)"
   ]
  },
  {
   "cell_type": "code",
   "execution_count": null,
   "metadata": {},
   "outputs": [],
   "source": []
  }
 ],
 "metadata": {
  "kernelspec": {
   "display_name": "Python 3",
   "language": "python",
   "name": "python3"
  },
  "language_info": {
   "codemirror_mode": {
    "name": "ipython",
    "version": 3
   },
   "file_extension": ".py",
   "mimetype": "text/x-python",
   "name": "python",
   "nbconvert_exporter": "python",
   "pygments_lexer": "ipython3",
   "version": "3.6.5"
  }
 },
 "nbformat": 4,
 "nbformat_minor": 2
}
